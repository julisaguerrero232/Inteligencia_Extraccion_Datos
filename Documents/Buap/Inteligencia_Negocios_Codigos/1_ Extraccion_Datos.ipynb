{
 "cells": [
  {
   "cell_type": "code",
   "execution_count": null,
   "metadata": {
    "vscode": {
     "languageId": "plaintext"
    }
   },
   "outputs": [],
   "source": [
    "#importamos librerias requeridas\n",
    "import pandas as pd \n",
    "import numpy as np\n",
    "import matplotlib.pyplot as plt\n",
    "import seaborn as sns\n",
    "\n",
    "#Carga desde un archivo .xlsx sin indice\n",
    "df = pd.read_excel('Antigüedad de saldos 17.03.2023')\n",
    "df\n",
    "\n",
    "#Verificamos informacion de dataframe\n",
    "df.info()\n",
    "\n",
    "#Filtro por objetos\n",
    "filtro1=df[(df[\"NOMBRE\"]==\"INDUSTRIAS LANCERMEX\")]\n",
    "filtro1\n",
    "\n",
    "#Filtro por filas\n",
    "#filtro2= df.iloc[3:11, : ]\n",
    "filtro2 = df.iloc [ [ 2, 5], :]\n",
    "filtro2\n",
    "\n",
    "#Filtro por comnas\n",
    "#filtro3=df.iloc[ : , 1:3] #columnas consecutivas\n",
    "filtro3=df.iloc[ : , [1,4,5]] #columanas no consecutivas\n",
    "filtro3\n",
    "\n",
    "df1= pd.read_excel('Antigüedad de saldos 17.03.2023.xlsx , index_col=1)\n",
    "df1\n",
    "\n",
    "#Paso2 : Aplicamos filtro de filas vs columnas\n",
    "filtro4=df1.loc[\"HELVEX\", \"DONGA HWASUNG MEXICO],[\"MONTO ADEUDADO\"]\n",
    "filtro4\n",
    "\n",
    "#filtro por cabecera\n",
    "filtro5=df.head()\n",
    "filtro5\n",
    "\n",
    "#filtro por cola\n",
    "filtro6=df.tail()\n",
    "filtro6\n",
    "\n"
   ]
  },
  {
   "cell_type": "code",
   "execution_count": null,
   "metadata": {
    "vscode": {
     "languageId": "plaintext"
    }
   },
   "outputs": [],
   "source": [
    "#FILTRO BASICOS PARA VARIABLE CUANTITATIVOS\n",
    "\n",
    "#Filtro por comparacion\n",
    "filtro7=df[df[\"MONTO ADEUDADO\"] < 7000]\n",
    "filtro7\n",
    "\n"
   ]
  },
  {
   "cell_type": "markdown",
   "metadata": {},
   "source": [
    "**FILTROS BASICOS CON CONECTORES LOGICOS**\n",
    "\n"
   ]
  },
  {
   "cell_type": "code",
   "execution_count": null,
   "metadata": {
    "vscode": {
     "languageId": "plaintext"
    }
   },
   "outputs": [],
   "source": [
    "#Filtro y \n",
    "filtro8=df[(df[\"MONTO ADEUDADO\"] < 6000) & (df[\"FECHA_FACTURA\"] == \"2023-03-14)]\n",
    "filtro8\n",
    "\n",
    "#Filtro O\n",
    "filtro9=df[(df[\"MONTO ADEUDADO\"] < 6000) | (df[\"FECHA_FACTURA\"] == \"2023-03-14)]\n",
    "filtro9\n",
    "\n",
    "#FILTRO NOT\n",
    "filtro10=df[~(df[\"FECHA_FACTURA]== \"2023-03-14)]\n",
    "filtro10\n"
   ]
  }
 ],
 "metadata": {
  "language_info": {
   "name": "python"
  }
 },
 "nbformat": 4,
 "nbformat_minor": 2
}
